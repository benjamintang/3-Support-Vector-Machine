{
 "cells": [
  {
   "cell_type": "markdown",
   "metadata": {},
   "source": [
    "# Support Vector Machine"
   ]
  },
  {
   "cell_type": "markdown",
   "metadata": {},
   "source": [
    "### The Problem\n",
    "Given a set of points on a 2D plane, how can we find the best way to separate them?\n",
    "\n",
    "### The Theory\n",
    "We use the closest points to the line (hyperplane) as support vectors to find a hyperplane that gives the biggest margin.\n",
    "\n",
    "### How it works\n",
    "1. Initialise weights as zero\n",
    "2. For each point, identify if it is correctly classified\n",
    "3. If misclassified, update weights using both the derivative of the error function, as well as the regulariser\n",
    "4. If correctly classified, update weights using the regulariser\n",
    "5. Repeat by number of epochs, until optimal weight values are obtained"
   ]
  },
  {
   "cell_type": "code",
   "execution_count": 12,
   "metadata": {
    "collapsed": true
   },
   "outputs": [],
   "source": [
    "# import numpy and matplotlib\n",
    "import numpy as np\n",
    "from matplotlib import pyplot as plt\n",
    "%matplotlib inline"
   ]
  },
  {
   "cell_type": "code",
   "execution_count": 13,
   "metadata": {},
   "outputs": [],
   "source": [
    "# create samaple fake data\n",
    "\n",
    "# input data - Of the form [X value, Y value, Bias term]\n",
    "X = np.array([\n",
    "    [-2,4,-1],\n",
    "    [4,1,-1],\n",
    "    [1, 6, -1],\n",
    "    [2, 4, -1],\n",
    "    [6, 2, -1],\n",
    "])\n",
    "\n",
    "# associated output labels\n",
    "Y = np.array([-1,-1,1,1,1])"
   ]
  },
  {
   "cell_type": "code",
   "execution_count": 14,
   "metadata": {},
   "outputs": [
    {
     "data": {
      "image/png": "[encoded data removed]",
      "text/plain": [
       "<matplotlib.figure.Figure at 0x2655d5b3198>"
      ]
     },
     "metadata": {},
     "output_type": "display_data"
    }
   ],
   "source": [
    "# plot examples on a 2d graph\n",
    "\n",
    "# for each example\n",
    "for d, sample in enumerate(X):\n",
    "    # plot the negative samples with a '-'\n",
    "    if d < 2:\n",
    "        plt.scatter(sample[0], sample[1], s=120, marker='_', linewidths=2)\n",
    "    # plot the positive samples with a '+'\n",
    "    else:\n",
    "        plt.scatter(sample[0], sample[1], s=120, marker='+', linewidths=2)"
   ]
  },
  {
   "cell_type": "code",
   "execution_count": 15,
   "metadata": {
    "collapsed": true
   },
   "outputs": [],
   "source": [
    "# initialise parameters\n",
    "\n",
    "# initialize our SVMs weight vector with zeros (3 values)\n",
    "w = np.zeros(len(X[0]))\n",
    "# the learning rate\n",
    "learningRate = 1\n",
    "# how many iterations to train for\n",
    "epochs = 100000"
   ]
  },
  {
   "cell_type": "code",
   "execution_count": 16,
   "metadata": {},
   "outputs": [],
   "source": [
    "# run stochastic gradient descent\n",
    "\n",
    "# for each iteration\n",
    "for epoch in range(1, epochs):\n",
    "    # for each point\n",
    "    for i, x in enumerate(X):\n",
    "        # if point is misclassified\n",
    "        if Y[i] * np.dot(X[i], w) < 1:\n",
    "            # update weights using both terms\n",
    "            w = w + learningRate * ((X[i] * Y[i]) + (-2 * (1/epoch) * w))\n",
    "        # else, classified correctly\n",
    "        else:\n",
    "            # update weights using only regulariser\n",
    "            w = w + learningRate * (-2 * (1/epoch) * w)"
   ]
  },
  {
   "cell_type": "code",
   "execution_count": 17,
   "metadata": {},
   "outputs": [
    {
     "data": {
      "text/plain": [
       "<matplotlib.quiver.Quiver at 0x2655d75c6d8>"
      ]
     },
     "execution_count": 17,
     "metadata": {},
     "output_type": "execute_result"
    },
    {
     "data": {
      "image/png": "[encoded data removed]",
      "text/plain": [
       "<matplotlib.figure.Figure at 0x2655da68b38>"
      ]
     },
     "metadata": {},
     "output_type": "display_data"
    }
   ],
   "source": [
    "# plot graph and see results\n",
    "\n",
    "for d, sample in enumerate(X):\n",
    "    # plot the negative samples\n",
    "    if d < 2:\n",
    "        plt.scatter(sample[0], sample[1], s=120, marker='_', linewidths=2)\n",
    "    # plot the positive samples\n",
    "    else:\n",
    "        plt.scatter(sample[0], sample[1], s=120, marker='+', linewidths=2)\n",
    "\n",
    "# add fake test samples\n",
    "plt.scatter(2,2, s=120, marker='_', linewidths=2, color='yellow')\n",
    "plt.scatter(4,3, s=120, marker='+', linewidths=2, color='blue')\n",
    "\n",
    "# print the hyperplane calculated after training by SGD\n",
    "x2=[w[0],w[1],-w[1],w[0]]\n",
    "x3=[w[0],w[1],w[1],-w[0]]\n",
    "\n",
    "x2x3 =np.array([x2,x3])\n",
    "X,Y,U,V = zip(*x2x3)\n",
    "ax = plt.gca()\n",
    "ax.quiver(X,Y,U,V,scale=1, color='blue')"
   ]
  }
 ],
 "metadata": {
  "kernelspec": {
   "display_name": "Python 3",
   "language": "python",
   "name": "python3"
  },
  "language_info": {
   "codemirror_mode": {
    "name": "ipython",
    "version": 3
   },
   "file_extension": ".py",
   "mimetype": "text/x-python",
   "name": "python",
   "nbconvert_exporter": "python",
   "pygments_lexer": "ipython3",
   "version": "3.6.1"
  }
 },
 "nbformat": 4,
 "nbformat_minor": 2
}
